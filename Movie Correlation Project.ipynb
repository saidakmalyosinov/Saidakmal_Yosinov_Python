{
 "cells": [
  {
   "cell_type": "code",
   "execution_count": null,
   "id": "e595174a",
   "metadata": {},
   "outputs": [],
   "source": [
    "# Import libraries\n",
    "\n",
    "import pandas as pd\n",
    "import seaborn as sns\n",
    "import numpy as np\n",
    "\n",
    "import matplotlib\n",
    "import matplotlib.pyplot as plt\n",
    "plt.style.use('ggplot')\n",
    "from matplotlib.pyplot import figure\n",
    "\n",
    "%matplotlib inline\n",
    "matplotlib.rcParams['figure.figsize'] = (12,8) # Adjusts the configuration of the plots I will create\n",
    "\n",
    "# Read in the data\n",
    "\n",
    "df = pd.read_csv(r'C:\\Users\\saida\\OneDrive\\Рабочий стол\\Portfolio\\Movies\\movies.csv')"
   ]
  },
  {
   "cell_type": "code",
   "execution_count": null,
   "id": "47204a6c",
   "metadata": {},
   "outputs": [],
   "source": [
    "# Let's look at the data\n",
    "\n",
    "df.head()"
   ]
  },
  {
   "cell_type": "code",
   "execution_count": null,
   "id": "5305918c",
   "metadata": {},
   "outputs": [],
   "source": [
    "# Number of null values in each column\n",
    "\n",
    "df.isnull().sum()"
   ]
  },
  {
   "cell_type": "code",
   "execution_count": null,
   "id": "05e1cec4",
   "metadata": {},
   "outputs": [],
   "source": [
    "# Let's see if there is any missing data\n",
    "\n",
    "for col in df.columns:\n",
    "    pct_missing = np.mean(df[col].isnull())\n",
    "    print('{} - {}%'.format(col, pct_missing))\n",
    "    \n",
    "# Only NAME, GENRE, YEAR, DIRECTOR columns do NOT have missing values"
   ]
  },
  {
   "cell_type": "code",
   "execution_count": null,
   "id": "0a66799b",
   "metadata": {},
   "outputs": [],
   "source": [
    "df.dtypes\n",
    "# Year, score, votes, budget, gross, runtime have numerical values, other columns are categorical."
   ]
  },
  {
   "cell_type": "code",
   "execution_count": null,
   "id": "0799499f",
   "metadata": {},
   "outputs": [],
   "source": [
    "# Replacing null values of numerical columns with median\n",
    "\n",
    "df['score'] = df['score'].fillna(df['score'].median())\n",
    "df['votes'] = df['votes'].fillna(df['votes'].median())\n",
    "df['budget'] = df['budget'].fillna(df['budget'].median())\n",
    "df['gross'] = df['gross'].fillna(df['gross'].median())\n",
    "df['runtime'] = df['runtime'].fillna(df['runtime'].median())"
   ]
  },
  {
   "cell_type": "code",
   "execution_count": null,
   "id": "f07cffef",
   "metadata": {},
   "outputs": [],
   "source": [
    "# Replacing null values of categorical columns with mode\n",
    "df['rating'] = df['rating'].fillna(df['rating'].mode()[0])\n",
    "df['released'] = df['released'].fillna(df['released'].mode()[0])\n",
    "df['writer'] = df['writer'].fillna(df['writer'].mode()[0])\n",
    "df['star'] = df['star'].fillna(df['star'].mode()[0])\n",
    "df['country'] = df['country'].fillna(df['country'].mode()[0])\n",
    "df['company'] = df['company'].fillna(df['company'].mode()[0])"
   ]
  },
  {
   "cell_type": "code",
   "execution_count": null,
   "id": "b388b252",
   "metadata": {},
   "outputs": [],
   "source": [
    "df.isnull().sum()"
   ]
  },
  {
   "cell_type": "code",
   "execution_count": null,
   "id": "af07fef3",
   "metadata": {},
   "outputs": [],
   "source": [
    "# There are other ways to work with null values\n",
    "# df = df.dropna() - It will drop all rows that have missing data\n",
    "# df['rating'].fillna(\"No rating\", inplace =True) It will change null values in RATING column to No rating. Example\n",
    "# df.fillna(0) It will fill missing values with 0"
   ]
  },
  {
   "cell_type": "code",
   "execution_count": null,
   "id": "058eb352",
   "metadata": {},
   "outputs": [],
   "source": [
    "# Change data type of columns BUDGET and GROSS to INTEGER\n",
    "\n",
    "df['budget'] = df['budget'].astype('int64')\n",
    "df['gross'] = df['gross'].astype('int64')\n",
    "df['votes'] = df['votes'].astype('int64')"
   ]
  },
  {
   "cell_type": "code",
   "execution_count": null,
   "id": "2f7509ad",
   "metadata": {},
   "outputs": [],
   "source": [
    "# Create correct year release year column\n",
    "\n",
    "# df['year_correct'] = df['released'].astype('str').str[:4] It will take the first 4 values of an object\n",
    "\n",
    "df['year_correct'] = df['released'].str.extract(pat = '([0-9]{4})').astype(int)"
   ]
  },
  {
   "cell_type": "code",
   "execution_count": null,
   "id": "711cda38",
   "metadata": {},
   "outputs": [],
   "source": [
    "df.head()"
   ]
  },
  {
   "cell_type": "code",
   "execution_count": null,
   "id": "6a968cdb",
   "metadata": {},
   "outputs": [],
   "source": [
    "df.sort_values(by=['gross'], inplace = False, ascending = False)"
   ]
  },
  {
   "cell_type": "code",
   "execution_count": null,
   "id": "b7123dad",
   "metadata": {},
   "outputs": [],
   "source": [
    "# This will show all rows in dataframe\n",
    "\n",
    "pd.set_option('display.max_rows', None)"
   ]
  },
  {
   "cell_type": "code",
   "execution_count": null,
   "id": "b5c47dbe",
   "metadata": {},
   "outputs": [],
   "source": [
    "# Drop any duplicates\n",
    "\n",
    "df.drop_duplicates()"
   ]
  },
  {
   "cell_type": "code",
   "execution_count": null,
   "id": "df9f9f2c",
   "metadata": {},
   "outputs": [],
   "source": [
    "# Budget will have high correlation - prediction\n",
    "# Company will have high correlation - prediction"
   ]
  },
  {
   "cell_type": "code",
   "execution_count": null,
   "id": "9bbf9207",
   "metadata": {},
   "outputs": [],
   "source": [
    "# Let's build scatterplot with Budget vs Gross\n",
    "\n",
    "plt.scatter(x = df['budget'], y = df['gross'])\n",
    "plt.title('Budget vs Gross Earnings')\n",
    "plt.xlabel('Gross')\n",
    "plt.ylabel('Budget for Film')\n",
    "plt.show()"
   ]
  },
  {
   "cell_type": "code",
   "execution_count": null,
   "id": "81c26f0c",
   "metadata": {},
   "outputs": [],
   "source": [
    "# Plot Budget vs Gross using seaborn\n",
    "\n",
    "sns.regplot(x = 'budget', y = 'gross', data = df, scatter_kws = {'color': 'red'}, line_kws = {'color': 'blue'})\n",
    "\n"
   ]
  },
  {
   "cell_type": "code",
   "execution_count": null,
   "id": "22483a33",
   "metadata": {},
   "outputs": [],
   "source": [
    "# Let's start looking at the correlation. Correlation is used only for numerical features\n",
    "\n",
    "df.corr(method = 'pearson') # Pearson correlation - default, other options are Kendall, Spearman"
   ]
  },
  {
   "cell_type": "code",
   "execution_count": null,
   "id": "19146079",
   "metadata": {},
   "outputs": [],
   "source": [
    "# Let's visualize correlation between correlation matrix\n",
    "\n",
    "correlation_matrix = df.corr(method = 'pearson')\n",
    "sns.heatmap(correlation_matrix, annot = True)\n",
    "plt.title('Correlation Matrix for Numeric Features')\n",
    "plt.xlabel('Movie Features')\n",
    "plt.ylabel('Movie Features')\n",
    "plt.show()"
   ]
  },
  {
   "cell_type": "code",
   "execution_count": null,
   "id": "bcdb216f",
   "metadata": {},
   "outputs": [],
   "source": [
    "# Let's look at company\n",
    "\n",
    "df.head()"
   ]
  },
  {
   "cell_type": "code",
   "execution_count": null,
   "id": "f53a23bb",
   "metadata": {},
   "outputs": [],
   "source": [
    "# Let's convert string valued features into numerical ones\n",
    "\n",
    "df_numerized = df\n",
    "\n",
    "for col_name in df_numerized.columns:\n",
    "    if (df_numerized[col_name].dtype == 'object'):\n",
    "        df_numerized[col_name] = df_numerized[col_name].astype('category')\n",
    "        df_numerized[col_name] = df_numerized[col_name].cat.codes\n",
    "        \n",
    "df_numerized.head()"
   ]
  },
  {
   "cell_type": "code",
   "execution_count": null,
   "id": "df8719e9",
   "metadata": {},
   "outputs": [],
   "source": [
    "# Let's visualize correlation between correlation matrix\n",
    "\n",
    "correlation_matrix = df_numerized.corr(method = 'pearson')\n",
    "sns.heatmap(correlation_matrix, annot = True)\n",
    "plt.title('Correlation Matrix for Numeric Features')\n",
    "plt.xlabel('Movie Features')\n",
    "plt.ylabel('Movie Features')\n",
    "plt.show()"
   ]
  },
  {
   "cell_type": "code",
   "execution_count": null,
   "id": "e8acd19b",
   "metadata": {
    "scrolled": true
   },
   "outputs": [],
   "source": [
    "correlation_mat = df_numerized.corr()\n",
    "corr_pairs = correlation_mat.unstack()\n",
    "corr_pairs"
   ]
  },
  {
   "cell_type": "code",
   "execution_count": null,
   "id": "534915af",
   "metadata": {
    "scrolled": true
   },
   "outputs": [],
   "source": [
    "sorted_pairs = corr_pairs.sort_values(ascending = False)\n",
    "sorted_pairs"
   ]
  },
  {
   "cell_type": "code",
   "execution_count": null,
   "id": "7822c4d4",
   "metadata": {},
   "outputs": [],
   "source": [
    "high_corr = sorted_pairs[(sorted_pairs) > 0.5].sort_values(ascending = True)\n",
    "high_corr"
   ]
  },
  {
   "cell_type": "code",
   "execution_count": null,
   "id": "a23ec574",
   "metadata": {},
   "outputs": [],
   "source": [
    "# Conclusion\n",
    "# Votes and budget have the highest correlation to gross earnings\n",
    "# My prediction regarding high correlation of Company feature to Gross earnings was WRONG.\n",
    "# Company feature has low correlation to gross earnings."
   ]
  }
 ],
 "metadata": {
  "kernelspec": {
   "display_name": "Python 3 (ipykernel)",
   "language": "python",
   "name": "python3"
  },
  "language_info": {
   "codemirror_mode": {
    "name": "ipython",
    "version": 3
   },
   "file_extension": ".py",
   "mimetype": "text/x-python",
   "name": "python",
   "nbconvert_exporter": "python",
   "pygments_lexer": "ipython3",
   "version": "3.9.13"
  }
 },
 "nbformat": 4,
 "nbformat_minor": 5
}
